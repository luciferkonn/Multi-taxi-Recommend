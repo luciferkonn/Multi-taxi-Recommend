{
 "cells": [
  {
   "cell_type": "code",
   "execution_count": 2,
   "metadata": {
    "collapsed": true
   },
   "outputs": [],
   "source": [
    "import mdptoolbox.example\n",
    "import numpy as np\n",
    "\n",
    "# ============================================================================ #\n",
    "\n",
    "\n",
    "class tidcmdp:\n",
    "\n",
    "    def __init__(self, agents, states, actions):\n",
    "\n",
    "        self.agents = agents\n",
    "        self.states = states\n",
    "        self.actions = actions\n",
    "        self.P1, _ = mdptoolbox.example.rand(states, actions)\n",
    "        self.P2, _ = mdptoolbox.example.rand(states, actions)\n",
    "        self.R = np.random.rand(self.states, self.states, self.actions, self.actions, self.states, self.states)\n",
    "\n",
    "\n",
    "\n"
   ]
  },
  {
   "cell_type": "code",
   "execution_count": 3,
   "metadata": {
    "collapsed": false
   },
   "outputs": [
    {
     "name": "stdout",
     "output_type": "stream",
     "text": [
      "(9, 3, 3) (9, 3, 3) (3, 3, 9, 9, 3, 3)\n"
     ]
    }
   ],
   "source": [
    "agents = 9\n",
    "states = 3\n",
    "actions = 9\n",
    "mdp = tidcmdp(agents, states, actions)\n",
    "print mdp.P1.shape, mdp.P2.shape, mdp.R.shape\n"
   ]
  },
  {
   "cell_type": "code",
   "execution_count": 4,
   "metadata": {
    "collapsed": true
   },
   "outputs": [
    {
     "data": {
      "text/plain": [
       "array([[[0.38943387, 0.61056613, 0.        ],\n        [0.28372557, 0.        , 0.71627443],\n        [0.38455528, 0.47369464, 0.14175008]],\n\n       [[0.        , 0.        , 1.        ],\n        [0.17330036, 0.45297927, 0.37372037],\n        [0.41624133, 0.23498641, 0.34877225]],\n\n       [[0.        , 1.        , 0.        ],\n        [0.5360721 , 0.22983941, 0.23408848],\n        [0.29984778, 0.34250115, 0.35765107]],\n\n       [[0.73141143, 0.        , 0.26858857],\n        [0.45848559, 0.42399929, 0.11751512],\n        [0.47184519, 0.00978838, 0.51836643]],\n\n       [[0.45183506, 0.        , 0.54816494],\n        [1.        , 0.        , 0.        ],\n        [1.        , 0.        , 0.        ]],\n\n       [[0.98065014, 0.01934986, 0.        ],\n        [1.        , 0.        , 0.        ],\n        [0.43508926, 0.56491074, 0.        ]],\n\n       [[0.60113925, 0.17938501, 0.21947574],\n        [0.62652992, 0.21634954, 0.15712053],\n        [0.        , 1.        , 0.        ]],\n\n       [[0.        , 0.        , 1.        ],\n        [0.13292039, 0.32463188, 0.54244773],\n        [0.17782517, 0.43820215, 0.38397269]],\n\n       [[0.        , 0.        , 1.        ],\n        [0.09751214, 0.02746947, 0.87501839],\n        [0.        , 0.32242453, 0.67757547]]])"
      ]
     },
     "execution_count": 4,
     "metadata": {},
     "output_type": "execute_result"
    }
   ],
   "source": [
    "mdp.P1"
   ]
  },
  {
   "cell_type": "code",
   "execution_count": null,
   "metadata": {},
   "outputs": [],
   "source": []
  }
 ],
 "metadata": {
  "kernelspec": {
   "display_name": "Python 2",
   "language": "python",
   "name": "python2"
  },
  "language_info": {
   "codemirror_mode": {
    "name": "ipython",
    "version": 2
   },
   "file_extension": ".py",
   "mimetype": "text/x-python",
   "name": "python",
   "nbconvert_exporter": "python",
   "pygments_lexer": "ipython2",
   "version": "2.7.12"
  }
 },
 "nbformat": 4,
 "nbformat_minor": 0
}
