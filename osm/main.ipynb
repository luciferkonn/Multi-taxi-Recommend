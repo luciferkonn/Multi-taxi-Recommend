{
 "cells": [
  {
   "cell_type": "code",
   "execution_count": 9,
   "metadata": {
    "collapsed": true
   },
   "outputs": [
    {
     "name": "stdout",
     "output_type": "stream",
     "text": [
      "[Errno 2] No such file or directory: '/home/lucifer/Documents/PycharmProjects/data/original/13_02_29_sorted.csv'\n[Errno 2] No such file or directory: '/home/lucifer/Documents/PycharmProjects/data/original/13_02_30_sorted.csv'\n[Errno 2] No such file or directory: '/home/lucifer/Documents/PycharmProjects/data/original/13_02_31_sorted.csv'\n"
     ]
    },
    {
     "name": "stdout",
     "output_type": "stream",
     "text": [
      "[Errno 2] No such file or directory: '/home/lucifer/Documents/PycharmProjects/data/original/13_04_31_sorted.csv'\n"
     ]
    },
    {
     "name": "stdout",
     "output_type": "stream",
     "text": [
      "[Errno 2] No such file or directory: '/home/lucifer/Documents/PycharmProjects/data/original/13_06_31_sorted.csv'\n"
     ]
    },
    {
     "name": "stdout",
     "output_type": "stream",
     "text": [
      "[Errno 2] No such file or directory: '/home/lucifer/Documents/PycharmProjects/data/original/13_09_31_sorted.csv'\n"
     ]
    },
    {
     "name": "stdout",
     "output_type": "stream",
     "text": [
      "[Errno 2] No such file or directory: '/home/lucifer/Documents/PycharmProjects/data/original/13_11_31_sorted.csv'\n"
     ]
    },
    {
     "name": "stdout",
     "output_type": "stream",
     "text": [
      "[409450. 389760. 436996. 472035. 466703. 400482. 403592. 438020. 453231.\n 482583. 514077. 498908. 439034. 439941. 492237. 495380. 506508. 535982.\n 502328. 454908. 381373. 491666. 515779. 527097. 529471. 548405. 467302.\n 447172. 472796. 477360. 524262. 558574. 560918. 467811. 453605. 478120.\n 501121. 528388. 429009. 384280. 455959. 454921. 498490. 518301. 520401.\n 528884. 533673. 501469. 403614. 452109. 507337. 531519. 550277. 576048.\n 471436. 447921. 491425. 503700. 518268. 556229. 575497. 489364. 462576.\n 488742. 513071. 531769. 537427. 552905. 464548. 447381. 490110. 508781.\n 545603. 550900. 565365. 489685. 453536. 472286. 488227. 498315. 539869.\n 544599. 464143. 434924. 455757. 481336. 505293. 511450. 496950. 444189.\n 425059. 490689. 508523. 526018. 546149. 523703. 456988. 435498. 471966.\n 497832. 518706. 556333. 546288. 481725. 456868. 476200. 496098. 519242.\n 535323. 561877. 479223. 453081. 493481. 494892. 511420. 530389. 529262.\n 463957. 455228. 475125. 490855. 516195. 542528. 545980. 483965. 463521.\n 485464. 503448. 519783. 529920. 532081. 457064. 455599. 485127. 502583.\n 520525. 525210. 527245. 485435. 462013. 493454. 495937. 484766. 485004.\n 446586. 379216. 332730. 441609. 474391. 503325. 517420. 525358. 446792.\n 448386. 471554. 490893. 507446. 524755. 480766. 436525. 456911. 468212.\n 480276. 512528. 499719. 487419. 417958. 433032. 462375. 483165. 490941.\n 497390. 466598. 432640. 433269. 464551. 481362. 498012. 498796. 482762.\n 413765. 418550. 437726. 429789. 321406. 348517. 350072. 355210. 409596.\n 453599. 469146. 487900. 499384. 461108. 431779. 439093. 461673. 490623.\n 506344. 508061. 478622. 410396. 436126. 459838. 470388. 480559. 475752.\n 450514. 411245. 405076. 438346. 453544. 303825. 232991. 223084. 200190.\n 402288. 443250. 460356. 431247. 482127. 437678. 193460. 395341. 445090.\n 452152. 466704. 442503. 431110. 387232. 393481. 427883. 448886. 464790.\n 457196. 441113. 396723. 390646. 418286. 439486. 449103. 449774. 427856.\n 379551. 328952. 418099. 448986. 460934. 500379. 502379. 458144. 446961.\n 477980. 495355. 496333. 514982. 509974. 458859. 440470. 463239. 478932.\n 497061. 514660. 525980. 453033. 407933. 430415. 456556. 478234. 493957.\n 517069. 453986. 420259. 448065. 470079. 490017. 512771. 529731. 453948.\n 422112. 455023. 479514. 500501. 507814. 515331. 458461. 399558. 425560.\n 471909. 499096. 518150. 540235. 470024. 431532. 462406. 490018. 506881.\n 522570. 527343. 464790. 428193. 459139. 475825. 481196. 547518. 541552.\n 479278. 444137. 462837. 477786. 501004. 519957. 535875. 469134. 413978.\n 469240. 486871. 499476. 505661. 529639. 461074. 421144. 470446. 487652.\n 491003. 516298. 544659. 494337. 441724. 432807. 442217. 328177. 368866.\n 426807. 394848. 423009. 458897. 465990. 491236. 522249. 543120. 484232.\n 447593. 472925. 478943. 499912. 534507. 509168. 454509. 449191. 475634.\n 481447. 488586. 511957. 471146. 399826. 381494. 365709. 243484. 318186.\n 376396. 385303. 403043. 400675. 464115.]\n"
     ]
    }
   ],
   "source": [
    "count = -1\n",
    "distance = np.zeros(365)\n",
    "for i in range(1, 13):\n",
    "    for j in range(1, 32):\n",
    "        if i < 10:\n",
    "            month = '0' + str(i)\n",
    "        else:\n",
    "            month = str(i)\n",
    "        if j < 10:\n",
    "            day = '0' + str(j)\n",
    "        else:\n",
    "            day = str(j)\n",
    "        try:\n",
    "            with open('/home/lucifer/Documents/PycharmProjects/data/original/13_'+month+'_'+day+'_sorted.csv', 'rb') as csvfile:\n",
    "                count += 1\n",
    "                spamreader = csv.reader(csvfile, delimiter=' ')\n",
    "                for row in spamreader:\n",
    "                    distance[count] += 1\n",
    "        except IOError as e:\n",
    "            print(e)\n",
    "            continue\n",
    "print(distance)\n",
    "np.savetxt('distance.txt', distance)"
   ]
  },
  {
   "cell_type": "code",
   "execution_count": 8,
   "metadata": {},
   "outputs": [],
   "source": [
    "import numpy as np\n",
    "import csv"
   ]
  },
  {
   "cell_type": "code",
   "execution_count": null,
   "metadata": {},
   "outputs": [],
   "source": []
  }
 ],
 "metadata": {
  "kernelspec": {
   "display_name": "Python 2",
   "language": "python",
   "name": "python2"
  },
  "language_info": {
   "codemirror_mode": {
    "name": "ipython",
    "version": 2
   },
   "file_extension": ".py",
   "mimetype": "text/x-python",
   "name": "python",
   "nbconvert_exporter": "python",
   "pygments_lexer": "ipython2",
   "version": "2.7.6"
  }
 },
 "nbformat": 4,
 "nbformat_minor": 0
}
